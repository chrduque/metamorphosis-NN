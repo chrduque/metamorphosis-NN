{
  "nbformat": 4,
  "nbformat_minor": 0,
  "metadata": {
    "colab": {
      "provenance": []
    },
    "kernelspec": {
      "name": "python3",
      "display_name": "Python 3"
    },
    "language_info": {
      "name": "python"
    }
  },
  "cells": [
    {
      "cell_type": "code",
      "execution_count": 1,
      "metadata": {
        "id": "dfEOx_qBR9Wx"
      },
      "outputs": [],
      "source": [
        "# Import libraries\n",
        "import matplotlib.pyplot as plt\n",
        "import numpy as np\n",
        "import pandas as pd\n",
        "import sklearn\n",
        "import tensorflow as tf\n",
        "from tensorflow import keras\n",
        "from tensorflow.keras.models import load_model\n",
        "from keras.layers import LeakyReLU\n",
        "from tensorflow.keras.layers import Input, Dense, BatchNormalization, Dropout\n",
        "from tensorflow.keras.models import Model\n",
        "from tensorflow.keras.optimizers import Adam"
      ]
    },
    {
      "cell_type": "code",
      "source": [
        "# Define a custum loss function\n",
        "def mse_weighted_loss(y_true, y_pred):\n",
        "  loss = tf.reduce_mean(tf.square(y_true - y_pred)*(4.0*tf.abs(y_true)+0.5))\n",
        "  return loss"
      ],
      "metadata": {
        "id": "1DaBMdVKXyOA"
      },
      "execution_count": 2,
      "outputs": []
    },
    {
      "cell_type": "code",
      "source": [
        "# Import the trained model\n",
        "metamorphosisNN_model = load_model(\"metamorphosisNN.keras\",\n",
        "                        custom_objects={\"LeakyReLU\": LeakyReLU,\n",
        "                                        \"mse_weighted_loss\": mse_weighted_loss})\n",
        "\n",
        "# Function to override Batch Norm behavior\n",
        "class MonteCarloModel(tf.keras.Model):\n",
        "    def __init__(self, model):\n",
        "        super().__init__()\n",
        "        self.model = model\n",
        "    def call(self, inputs, training=None):\n",
        "        outputs = inputs\n",
        "        for layer in self.model.layers:\n",
        "            if isinstance(layer, keras.layers.BatchNormalization):\n",
        "                # Force BatchNorm to use moving averages from training\n",
        "                outputs = layer(outputs, training=False)\n",
        "            else:\n",
        "                # Apply other layers normally with `training=True` for dropout\n",
        "                outputs = layer(outputs, training=training)\n",
        "        return outputs\n",
        "\n",
        "# Wrap the trained model\n",
        "metamorphosisNN = MonteCarloModel(metamorphosisNN_model)\n",
        "\n",
        "# Function to calculate the MC predictions\n",
        "def monte_carlo_predictions(mc_model, X, n_simulations=100):\n",
        "    predictions = np.array([mc_model(X, training=True).numpy() for _ in range(n_simulations)])\n",
        "    predictions = pd.DataFrame(predictions.squeeze().T)\n",
        "    return predictions"
      ],
      "metadata": {
        "id": "fgpYk7jOT7l2"
      },
      "execution_count": 3,
      "outputs": []
    },
    {
      "cell_type": "code",
      "source": [
        "# Mock data:\n",
        "mock_data = pd.DataFrame(data = [\n",
        "    [10.728 ,12.331,\t9.502,\t7.804,\t7.178,\t6.904,\t6.698,\t6.606], # HD 18143C\n",
        "    [10.053, 11.523,\t8.866,\t7.231,\t6.701,\t6.487,\t6.346,\t6.160]  # HD 20727B\n",
        "    ],\n",
        "    columns=[\"M_G\", \"M_BP\", \"M_RP\", \"M_J\", \"M_H\", \"M_K\", \"M_W1\", \"M_W2\"])\n",
        "\n",
        "predictions = monte_carlo_predictions(metamorphosisNN, mock_data, n_simulations=100)\n",
        "\n",
        "print(\"--------------------------\")\n",
        "print(\"Results:\")\n",
        "print(\"--------------------------\")\n",
        "for i in range(len(predictions)):\n",
        "  print(\"[Fe/H] = {0:5.2f} +- {1:3.2f} dex\".format(predictions.mean(axis=1)[i], predictions.std(axis=1)[i]))\n",
        "print(\"--------------------------\")"
      ],
      "metadata": {
        "colab": {
          "base_uri": "https://localhost:8080/"
        },
        "id": "RqVT2uYRT7wI",
        "outputId": "026c5e01-e8a8-47b7-f68e-7772690c3e84"
      },
      "execution_count": 28,
      "outputs": [
        {
          "output_type": "stream",
          "name": "stdout",
          "text": [
            "--------------------------\n",
            "Results:\n",
            "--------------------------\n",
            "[Fe/H] =  0.15 +- 0.04 dex\n",
            "[Fe/H] = -0.28 +- 0.08 dex\n",
            "--------------------------\n"
          ]
        }
      ]
    }
  ]
}